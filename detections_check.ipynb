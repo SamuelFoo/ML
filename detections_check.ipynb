{
 "cells": [
  {
   "cell_type": "code",
   "execution_count": 1,
   "metadata": {},
   "outputs": [],
   "source": [
    "import json\n",
    "import glob"
   ]
  },
  {
   "cell_type": "code",
   "execution_count": 5,
   "metadata": {},
   "outputs": [],
   "source": [
    "file_paths = glob.glob(\"CV_final_images/*.[Jj][Pp][Gg]\")"
   ]
  },
  {
   "cell_type": "code",
   "execution_count": 6,
   "metadata": {},
   "outputs": [],
   "source": [
    "file_names = []\n",
    "for file_path in file_paths:\n",
    "    file_names.append(file_path.split(\"\\\\\")[1])"
   ]
  },
  {
   "cell_type": "code",
   "execution_count": 9,
   "metadata": {},
   "outputs": [],
   "source": [
    "images = []\n",
    "detections = []\n",
    "for file_name in file_names:\n",
    "    img_id = file_name.split('.')[0]\n",
    "    images.append({\"file_name\": file_name, \"id\": img_id})\n",
    "    detections.append( {'image_id':img_id, 'category_id':1, 'bbox':[0,1,2,3], 'score':0.5} )"
   ]
  },
  {
   "cell_type": "code",
   "execution_count": 11,
   "metadata": {},
   "outputs": [],
   "source": [
    "categories = [{\"id\": 1, \"name\": \"tops\"}, {\"id\": 2, \"name\": \"trousers\"}, {\"id\": 3, \"name\": \"outerwear\"}, {\"id\": 4, \"name\": \"dresses\"}, {\"id\": 5, \"name\": \"skirts\"}]\n",
    "check_json = {\"annotations\": detections, \"images\": images, \"categories\": categories}\n",
    "\n",
    "with open('detections_check.json', 'w') as f:\n",
    "    json.dump(check_json, f)"
   ]
  },
  {
   "cell_type": "code",
   "execution_count": 13,
   "metadata": {},
   "outputs": [
    {
     "name": "stdout",
     "output_type": "stream",
     "text": [
      "Collecting git+https://github.com/jinmingteo/cocoapi.git#subdirectory=PythonAPI"
     ]
    },
    {
     "name": "stderr",
     "output_type": "stream",
     "text": [
      "  Running command git clone -q https://github.com/jinmingteo/cocoapi.git 'C:\\Users\\acer\\AppData\\Local\\Temp\\pip-req-build-3tg_guz1'\n",
      "  ERROR: Command errored out with exit status 1:\n",
      "   command: 'C:\\Users\\acer\\Anaconda3\\python.exe' -u -c 'import sys, setuptools, tokenize; sys.argv[0] = '\"'\"'C:\\\\Users\\\\acer\\\\AppData\\\\Local\\\\Temp\\\\pip-req-build-3tg_guz1\\\\PythonAPI\\\\setup.py'\"'\"'; __file__='\"'\"'C:\\\\Users\\\\acer\\\\AppData\\\\Local\\\\Temp\\\\pip-req-build-3tg_guz1\\\\PythonAPI\\\\setup.py'\"'\"';f=getattr(tokenize, '\"'\"'open'\"'\"', open)(__file__);code=f.read().replace('\"'\"'\\r\\n'\"'\"', '\"'\"'\\n'\"'\"');f.close();exec(compile(code, __file__, '\"'\"'exec'\"'\"'))' bdist_wheel -d 'C:\\Users\\acer\\AppData\\Local\\Temp\\pip-wheel-j_m29kqe'\n",
      "       cwd: C:\\Users\\acer\\AppData\\Local\\Temp\\pip-req-build-3tg_guz1\\PythonAPI\n",
      "  Complete output (22 lines):\n",
      "  running bdist_wheel\n",
      "  running build\n",
      "  running build_py\n",
      "  creating build\n",
      "  creating build\\lib.win-amd64-3.7\n",
      "  creating build\\lib.win-amd64-3.7\\pycocotools\n",
      "  copying pycocotools\\coco.py -> build\\lib.win-amd64-3.7\\pycocotools\n",
      "  copying pycocotools\\cocoeval.py -> build\\lib.win-amd64-3.7\\pycocotools\n",
      "  copying pycocotools\\mask.py -> build\\lib.win-amd64-3.7\\pycocotools\n",
      "  copying pycocotools\\__init__.py -> build\\lib.win-amd64-3.7\\pycocotools\n",
      "  running build_ext\n",
      "  cythoning pycocotools/_mask.pyx to pycocotools\\_mask.c\n",
      "  C:\\Users\\acer\\Anaconda3\\lib\\site-packages\\Cython\\Compiler\\Main.py:369: FutureWarning: Cython directive 'language_level' not set, using 2 for now (Py2). This will change in a later release! File: C:\\Users\\acer\\AppData\\Local\\Temp\\pip-req-build-3tg_guz1\\PythonAPI\\pycocotools\\_mask.pyx\n",
      "    tree = Parsing.p_module(s, pxd, full_module_name)\n",
      "  building 'pycocotools._mask' extension\n",
      "  creating build\\temp.win-amd64-3.7\n",
      "  creating build\\temp.win-amd64-3.7\\common\n",
      "  creating build\\temp.win-amd64-3.7\\Release\n",
      "  creating build\\temp.win-amd64-3.7\\Release\\pycocotools\n",
      "  C:\\Program Files (x86)\\Microsoft Visual Studio\\2019\\Community\\VC\\Tools\\MSVC\\14.26.28801\\bin\\HostX86\\x64\\cl.exe /c /nologo /Ox /W3 /GL /DNDEBUG /MD -IC:\\Users\\acer\\Anaconda3\\lib\\site-packages\\numpy\\core\\include -I../common -IC:\\Users\\acer\\Anaconda3\\include -IC:\\Users\\acer\\Anaconda3\\include \"-IC:\\Program Files (x86)\\Microsoft Visual Studio\\2019\\Community\\VC\\Tools\\MSVC\\14.26.28801\\ATLMFC\\include\" \"-IC:\\Program Files (x86)\\Microsoft Visual Studio\\2019\\Community\\VC\\Tools\\MSVC\\14.26.28801\\include\" \"-IC:\\Program Files (x86)\\Windows Kits\\NETFXSDK\\4.8\\include\\um\" \"-IC:\\Program Files (x86)\\Windows Kits\\10\\include\\10.0.18362.0\\ucrt\" \"-IC:\\Program Files (x86)\\Windows Kits\\10\\include\\10.0.18362.0\\shared\" \"-IC:\\Program Files (x86)\\Windows Kits\\10\\include\\10.0.18362.0\\um\" \"-IC:\\Program Files (x86)\\Windows Kits\\10\\include\\10.0.18362.0\\winrt\" \"-IC:\\Program Files (x86)\\Windows Kits\\10\\include\\10.0.18362.0\\cppwinrt\" /Tc../common/maskApi.c /Fobuild\\temp.win-amd64-3.7\\Release\\../common/maskApi.obj -Wno-cpp -Wno-unused-function -std=c99\n",
      "  cl : Command line error D8021 : invalid numeric argument '/Wno-cpp'\n",
      "  error: command 'C:\\\\Program Files (x86)\\\\Microsoft Visual Studio\\\\2019\\\\Community\\\\VC\\\\Tools\\\\MSVC\\\\14.26.28801\\\\bin\\\\HostX86\\\\x64\\\\cl.exe' failed with exit status 2\n"
     ]
    },
    {
     "name": "stdout",
     "output_type": "stream",
     "text": [
      "\n",
      "  Cloning https://github.com/jinmingteo/cocoapi.git to c:\\users\\acer\\appdata\\local\\temp\\pip-req-build-3tg_guz1\n",
      "Requirement already satisfied: setuptools>=18.0 in c:\\users\\acer\\anaconda3\\lib\\site-packages (from pycocotools==2.0) (46.1.3.post20200330)\n",
      "Requirement already satisfied: cython>=0.27.3 in c:\\users\\acer\\anaconda3\\lib\\site-packages (from pycocotools==2.0) (0.29.15)\n",
      "Requirement already satisfied: matplotlib>=2.1.0 in c:\\users\\acer\\anaconda3\\lib\\site-packages (from pycocotools==2.0) (3.1.3)\n",
      "Requirement already satisfied: pyparsing!=2.0.4,!=2.1.2,!=2.1.6,>=2.0.1 in c:\\users\\acer\\anaconda3\\lib\\site-packages (from matplotlib>=2.1.0->pycocotools==2.0) (2.4.6)\n",
      "Requirement already satisfied: numpy>=1.11 in c:\\users\\acer\\anaconda3\\lib\\site-packages (from matplotlib>=2.1.0->pycocotools==2.0) (1.18.1)\n",
      "Requirement already satisfied: python-dateutil>=2.1 in c:\\users\\acer\\anaconda3\\lib\\site-packages (from matplotlib>=2.1.0->pycocotools==2.0) (2.8.1)\n",
      "Requirement already satisfied: cycler>=0.10 in c:\\users\\acer\\anaconda3\\lib\\site-packages (from matplotlib>=2.1.0->pycocotools==2.0) (0.10.0)\n",
      "Requirement already satisfied: kiwisolver>=1.0.1 in c:\\users\\acer\\anaconda3\\lib\\site-packages (from matplotlib>=2.1.0->pycocotools==2.0) (1.1.0)\n",
      "Requirement already satisfied: six>=1.5 in c:\\users\\acer\\anaconda3\\lib\\site-packages (from python-dateutil>=2.1->matplotlib>=2.1.0->pycocotools==2.0) (1.14.0)\n",
      "Building wheels for collected packages: pycocotools\n",
      "  Building wheel for pycocotools (setup.py): started\n",
      "  Building wheel for pycocotools (setup.py): finished with status 'error'\n",
      "  Running setup.py clean for pycocotools\n",
      "Failed to build pycocotools\n",
      "Installing collected packages: pycocotools\n",
      "    Running setup.py install for pycocotools: started\n",
      "    Running setup.py install for pycocotools: finished with status 'error'\n"
     ]
    },
    {
     "name": "stderr",
     "output_type": "stream",
     "text": [
      "  ----------------------------------------\n",
      "  ERROR: Failed building wheel for pycocotools\n",
      "    ERROR: Command errored out with exit status 1:\n",
      "     command: 'C:\\Users\\acer\\Anaconda3\\python.exe' -u -c 'import sys, setuptools, tokenize; sys.argv[0] = '\"'\"'C:\\\\Users\\\\acer\\\\AppData\\\\Local\\\\Temp\\\\pip-req-build-3tg_guz1\\\\PythonAPI\\\\setup.py'\"'\"'; __file__='\"'\"'C:\\\\Users\\\\acer\\\\AppData\\\\Local\\\\Temp\\\\pip-req-build-3tg_guz1\\\\PythonAPI\\\\setup.py'\"'\"';f=getattr(tokenize, '\"'\"'open'\"'\"', open)(__file__);code=f.read().replace('\"'\"'\\r\\n'\"'\"', '\"'\"'\\n'\"'\"');f.close();exec(compile(code, __file__, '\"'\"'exec'\"'\"'))' install --record 'C:\\Users\\acer\\AppData\\Local\\Temp\\pip-record-cml__rcs\\install-record.txt' --single-version-externally-managed --compile --install-headers 'C:\\Users\\acer\\Anaconda3\\Include\\pycocotools'\n",
      "         cwd: C:\\Users\\acer\\AppData\\Local\\Temp\\pip-req-build-3tg_guz1\\PythonAPI\n",
      "    Complete output (9 lines):\n",
      "    running install\n",
      "    running build\n",
      "    running build_py\n",
      "    running build_ext\n",
      "    skipping 'pycocotools\\_mask.c' Cython extension (up-to-date)\n",
      "    building 'pycocotools._mask' extension\n",
      "    C:\\Program Files (x86)\\Microsoft Visual Studio\\2019\\Community\\VC\\Tools\\MSVC\\14.26.28801\\bin\\HostX86\\x64\\cl.exe /c /nologo /Ox /W3 /GL /DNDEBUG /MD -IC:\\Users\\acer\\Anaconda3\\lib\\site-packages\\numpy\\core\\include -I../common -IC:\\Users\\acer\\Anaconda3\\include -IC:\\Users\\acer\\Anaconda3\\include \"-IC:\\Program Files (x86)\\Microsoft Visual Studio\\2019\\Community\\VC\\Tools\\MSVC\\14.26.28801\\ATLMFC\\include\" \"-IC:\\Program Files (x86)\\Microsoft Visual Studio\\2019\\Community\\VC\\Tools\\MSVC\\14.26.28801\\include\" \"-IC:\\Program Files (x86)\\Windows Kits\\NETFXSDK\\4.8\\include\\um\" \"-IC:\\Program Files (x86)\\Windows Kits\\10\\include\\10.0.18362.0\\ucrt\" \"-IC:\\Program Files (x86)\\Windows Kits\\10\\include\\10.0.18362.0\\shared\" \"-IC:\\Program Files (x86)\\Windows Kits\\10\\include\\10.0.18362.0\\um\" \"-IC:\\Program Files (x86)\\Windows Kits\\10\\include\\10.0.18362.0\\winrt\" \"-IC:\\Program Files (x86)\\Windows Kits\\10\\include\\10.0.18362.0\\cppwinrt\" /Tc../common/maskApi.c /Fobuild\\temp.win-amd64-3.7\\Release\\../common/maskApi.obj -Wno-cpp -Wno-unused-function -std=c99\n",
      "    cl : Command line error D8021 : invalid numeric argument '/Wno-cpp'\n",
      "    error: command 'C:\\\\Program Files (x86)\\\\Microsoft Visual Studio\\\\2019\\\\Community\\\\VC\\\\Tools\\\\MSVC\\\\14.26.28801\\\\bin\\\\HostX86\\\\x64\\\\cl.exe' failed with exit status 2\n",
      "    ----------------------------------------\n",
      "ERROR: Command errored out with exit status 1: 'C:\\Users\\acer\\Anaconda3\\python.exe' -u -c 'import sys, setuptools, tokenize; sys.argv[0] = '\"'\"'C:\\\\Users\\\\acer\\\\AppData\\\\Local\\\\Temp\\\\pip-req-build-3tg_guz1\\\\PythonAPI\\\\setup.py'\"'\"'; __file__='\"'\"'C:\\\\Users\\\\acer\\\\AppData\\\\Local\\\\Temp\\\\pip-req-build-3tg_guz1\\\\PythonAPI\\\\setup.py'\"'\"';f=getattr(tokenize, '\"'\"'open'\"'\"', open)(__file__);code=f.read().replace('\"'\"'\\r\\n'\"'\"', '\"'\"'\\n'\"'\"');f.close();exec(compile(code, __file__, '\"'\"'exec'\"'\"'))' install --record 'C:\\Users\\acer\\AppData\\Local\\Temp\\pip-record-cml__rcs\\install-record.txt' --single-version-externally-managed --compile --install-headers 'C:\\Users\\acer\\Anaconda3\\Include\\pycocotools' Check the logs for full command output.\n"
     ]
    }
   ],
   "source": [
    "!pip install git+https://github.com/jinmingteo/cocoapi.git#subdirectory=PythonAPI"
   ]
  },
  {
   "cell_type": "code",
   "execution_count": 12,
   "metadata": {},
   "outputs": [
    {
     "ename": "ModuleNotFoundError",
     "evalue": "No module named 'pycocotools'",
     "output_type": "error",
     "traceback": [
      "\u001b[1;31m---------------------------------------------------------------------------\u001b[0m",
      "\u001b[1;31mModuleNotFoundError\u001b[0m                       Traceback (most recent call last)",
      "\u001b[1;32m<ipython-input-12-2ac6429c2d9a>\u001b[0m in \u001b[0;36m<module>\u001b[1;34m\u001b[0m\n\u001b[1;32m----> 1\u001b[1;33m \u001b[1;32mfrom\u001b[0m \u001b[0mpycocotools\u001b[0m\u001b[1;33m.\u001b[0m\u001b[0mcoco\u001b[0m \u001b[1;32mimport\u001b[0m \u001b[0mCOCO\u001b[0m\u001b[1;33m\u001b[0m\u001b[1;33m\u001b[0m\u001b[0m\n\u001b[0m\u001b[0;32m      2\u001b[0m \u001b[1;32mfrom\u001b[0m \u001b[0mpycocotools\u001b[0m\u001b[1;33m.\u001b[0m\u001b[0mcocoeval\u001b[0m \u001b[1;32mimport\u001b[0m \u001b[0mCOCOeval\u001b[0m\u001b[1;33m\u001b[0m\u001b[1;33m\u001b[0m\u001b[0m\n",
      "\u001b[1;31mModuleNotFoundError\u001b[0m: No module named 'pycocotools'"
     ]
    }
   ],
   "source": [
    "from pycocotools.coco import COCO\n",
    "from pycocotools.cocoeval import COCOeval"
   ]
  },
  {
   "cell_type": "code",
   "execution_count": null,
   "metadata": {},
   "outputs": [],
   "source": [
    "coco_gt = COCO('CV/valid.json')\n",
    "coco_dt = coco_gt.loadRes('CV/detections.json')\n",
    "cocoEval = COCOeval(cocoGt=coco_gt, cocoDt=coco_dt, iouType='bbox')\n",
    "cocoEval.evaluate()\n",
    "cocoEval.accumulate()\n",
    "cocoEval.summarize()"
   ]
  }
 ],
 "metadata": {
  "kernelspec": {
   "display_name": "Python 3",
   "language": "python",
   "name": "python3"
  },
  "language_info": {
   "codemirror_mode": {
    "name": "ipython",
    "version": 3
   },
   "file_extension": ".py",
   "mimetype": "text/x-python",
   "name": "python",
   "nbconvert_exporter": "python",
   "pygments_lexer": "ipython3",
   "version": "3.7.7"
  }
 },
 "nbformat": 4,
 "nbformat_minor": 2
}
