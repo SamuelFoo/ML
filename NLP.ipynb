{
  "nbformat": 4,
  "nbformat_minor": 0,
  "metadata": {
    "kernelspec": {
      "display_name": "Python 3",
      "language": "python",
      "name": "python3"
    },
    "language_info": {
      "codemirror_mode": {
        "name": "ipython",
        "version": 3
      },
      "file_extension": ".py",
      "mimetype": "text/x-python",
      "name": "python",
      "nbconvert_exporter": "python",
      "pygments_lexer": "ipython3",
      "version": "3.6.10"
    },
    "colab": {
      "name": "NLP.ipynb",
      "provenance": [],
      "collapsed_sections": [],
      "include_colab_link": true
    },
    "accelerator": "GPU"
  },
  "cells": [
    {
      "cell_type": "markdown",
      "metadata": {
        "id": "view-in-github",
        "colab_type": "text"
      },
      "source": [
        "<a href=\"https://colab.research.google.com/github/SamuelFoo/ML/blob/master/NLP.ipynb\" target=\"_parent\"><img src=\"https://colab.research.google.com/assets/colab-badge.svg\" alt=\"Open In Colab\"/></a>"
      ]
    },
    {
      "cell_type": "code",
      "metadata": {
        "id": "GwbQjy1FviKf",
        "colab_type": "code",
        "colab": {
          "base_uri": "https://localhost:8080/",
          "height": 52
        },
        "outputId": "945723c3-0679-4370-c3af-e0daf7a0a81e"
      },
      "source": [
        "%reload_ext autoreload\n",
        "%autoreload 2\n",
        "%matplotlib inline\n",
        "\n",
        "!curl -s https://course.fast.ai/setup/colab | bash\n",
        "\n",
        "from fastai import *\n",
        "from fastai.text import *\n",
        "import pickle\n",
        "\n",
        "# To consider:\n",
        "# Momentum\n",
        "# Reduce Batch size\n",
        "# Try freezing and unfreezing for language model\n",
        "# Start from freeze_to(-1)"
      ],
      "execution_count": null,
      "outputs": [
        {
          "output_type": "stream",
          "text": [
            "Updating fastai...\n",
            "Done.\n"
          ],
          "name": "stdout"
        }
      ]
    },
    {
      "cell_type": "code",
      "metadata": {
        "id": "CSvvGA5P3YU-",
        "colab_type": "code",
        "colab": {
          "base_uri": "https://localhost:8080/",
          "height": 35
        },
        "outputId": "95988328-ebf1-417c-b596-09121d61eb32"
      },
      "source": [
        "from google.colab import drive\n",
        "drive.mount('/content/gdrive', force_remount=True)\n",
        "root_dir = \"/content/gdrive/My Drive/ML/NLP/\""
      ],
      "execution_count": null,
      "outputs": [
        {
          "output_type": "stream",
          "text": [
            "Mounted at /content/gdrive\n"
          ],
          "name": "stdout"
        }
      ]
    },
    {
      "cell_type": "code",
      "metadata": {
        "id": "2QBjZ1pnviKj",
        "colab_type": "code",
        "colab": {
          "base_uri": "https://localhost:8080/",
          "height": 373
        },
        "outputId": "791aa9e3-4726-40a5-856f-4230e28160f8"
      },
      "source": [
        "train = pd.read_csv(root_dir+\"TIL_NLP_train_dataset.csv\")\n",
        "print(len(train))\n",
        "train.head(10)"
      ],
      "execution_count": null,
      "outputs": [
        {
          "output_type": "stream",
          "text": [
            "7380\n"
          ],
          "name": "stdout"
        },
        {
          "output_type": "execute_result",
          "data": {
            "text/html": [
              "<div>\n",
              "<style scoped>\n",
              "    .dataframe tbody tr th:only-of-type {\n",
              "        vertical-align: middle;\n",
              "    }\n",
              "\n",
              "    .dataframe tbody tr th {\n",
              "        vertical-align: top;\n",
              "    }\n",
              "\n",
              "    .dataframe thead th {\n",
              "        text-align: right;\n",
              "    }\n",
              "</style>\n",
              "<table border=\"1\" class=\"dataframe\">\n",
              "  <thead>\n",
              "    <tr style=\"text-align: right;\">\n",
              "      <th></th>\n",
              "      <th>id</th>\n",
              "      <th>word_representation</th>\n",
              "      <th>outwear</th>\n",
              "      <th>top</th>\n",
              "      <th>trousers</th>\n",
              "      <th>women dresses</th>\n",
              "      <th>women skirts</th>\n",
              "    </tr>\n",
              "  </thead>\n",
              "  <tbody>\n",
              "    <tr>\n",
              "      <th>0</th>\n",
              "      <td>0</td>\n",
              "      <td>w7718 w173355 w138132 w232277 w90685 w314686 w...</td>\n",
              "      <td>1</td>\n",
              "      <td>0</td>\n",
              "      <td>1</td>\n",
              "      <td>0</td>\n",
              "      <td>0</td>\n",
              "    </tr>\n",
              "    <tr>\n",
              "      <th>1</th>\n",
              "      <td>1</td>\n",
              "      <td>w195317 w127737 w171593 w22890 w342007 w217871...</td>\n",
              "      <td>1</td>\n",
              "      <td>0</td>\n",
              "      <td>1</td>\n",
              "      <td>0</td>\n",
              "      <td>0</td>\n",
              "    </tr>\n",
              "    <tr>\n",
              "      <th>2</th>\n",
              "      <td>2</td>\n",
              "      <td>w247655 w270233 w261113 w337250 w366000 w37873...</td>\n",
              "      <td>0</td>\n",
              "      <td>1</td>\n",
              "      <td>1</td>\n",
              "      <td>0</td>\n",
              "      <td>0</td>\n",
              "    </tr>\n",
              "    <tr>\n",
              "      <th>3</th>\n",
              "      <td>3</td>\n",
              "      <td>w279289 w395855 w61795 w286461 w308610 w27013 ...</td>\n",
              "      <td>1</td>\n",
              "      <td>0</td>\n",
              "      <td>1</td>\n",
              "      <td>0</td>\n",
              "      <td>0</td>\n",
              "    </tr>\n",
              "    <tr>\n",
              "      <th>4</th>\n",
              "      <td>4</td>\n",
              "      <td>w254516 w135431 w115724 w331534 w256214 w71240...</td>\n",
              "      <td>1</td>\n",
              "      <td>0</td>\n",
              "      <td>1</td>\n",
              "      <td>0</td>\n",
              "      <td>0</td>\n",
              "    </tr>\n",
              "    <tr>\n",
              "      <th>5</th>\n",
              "      <td>5</td>\n",
              "      <td>w53495 w306061 w372126 w47982 w66980 w189406 w...</td>\n",
              "      <td>1</td>\n",
              "      <td>0</td>\n",
              "      <td>0</td>\n",
              "      <td>0</td>\n",
              "      <td>1</td>\n",
              "    </tr>\n",
              "    <tr>\n",
              "      <th>6</th>\n",
              "      <td>6</td>\n",
              "      <td>w237465 w256553 w286461 w382662 w206066 w12125...</td>\n",
              "      <td>1</td>\n",
              "      <td>0</td>\n",
              "      <td>0</td>\n",
              "      <td>1</td>\n",
              "      <td>0</td>\n",
              "    </tr>\n",
              "    <tr>\n",
              "      <th>7</th>\n",
              "      <td>7</td>\n",
              "      <td>w173317 w39222 w207614 w136665 w394246 w197783...</td>\n",
              "      <td>1</td>\n",
              "      <td>1</td>\n",
              "      <td>1</td>\n",
              "      <td>0</td>\n",
              "      <td>0</td>\n",
              "    </tr>\n",
              "    <tr>\n",
              "      <th>8</th>\n",
              "      <td>8</td>\n",
              "      <td>w373517 w37419 w358253 w162965 w286461 w204762...</td>\n",
              "      <td>1</td>\n",
              "      <td>0</td>\n",
              "      <td>0</td>\n",
              "      <td>0</td>\n",
              "      <td>0</td>\n",
              "    </tr>\n",
              "    <tr>\n",
              "      <th>9</th>\n",
              "      <td>9</td>\n",
              "      <td>w230409 w109269 w369689 w186076 w377961 w21787...</td>\n",
              "      <td>1</td>\n",
              "      <td>1</td>\n",
              "      <td>0</td>\n",
              "      <td>0</td>\n",
              "      <td>0</td>\n",
              "    </tr>\n",
              "  </tbody>\n",
              "</table>\n",
              "</div>"
            ],
            "text/plain": [
              "   id  ... women skirts\n",
              "0   0  ...            0\n",
              "1   1  ...            0\n",
              "2   2  ...            0\n",
              "3   3  ...            0\n",
              "4   4  ...            0\n",
              "5   5  ...            1\n",
              "6   6  ...            0\n",
              "7   7  ...            0\n",
              "8   8  ...            0\n",
              "9   9  ...            0\n",
              "\n",
              "[10 rows x 7 columns]"
            ]
          },
          "metadata": {
            "tags": []
          },
          "execution_count": 3
        }
      ]
    },
    {
      "cell_type": "code",
      "metadata": {
        "id": "w6iY-NtNIQDN",
        "colab_type": "code",
        "colab": {
          "base_uri": "https://localhost:8080/",
          "height": 373
        },
        "outputId": "f494290f-7bb1-4af4-fa08-29d46eb88928"
      },
      "source": [
        "test = pd.read_csv(root_dir+\"TIL_NLP_test_dataset.csv\")\n",
        "print(len(test))\n",
        "test.head(10)"
      ],
      "execution_count": null,
      "outputs": [
        {
          "output_type": "stream",
          "text": [
            "2460\n"
          ],
          "name": "stdout"
        },
        {
          "output_type": "execute_result",
          "data": {
            "text/html": [
              "<div>\n",
              "<style scoped>\n",
              "    .dataframe tbody tr th:only-of-type {\n",
              "        vertical-align: middle;\n",
              "    }\n",
              "\n",
              "    .dataframe tbody tr th {\n",
              "        vertical-align: top;\n",
              "    }\n",
              "\n",
              "    .dataframe thead th {\n",
              "        text-align: right;\n",
              "    }\n",
              "</style>\n",
              "<table border=\"1\" class=\"dataframe\">\n",
              "  <thead>\n",
              "    <tr style=\"text-align: right;\">\n",
              "      <th></th>\n",
              "      <th>id</th>\n",
              "      <th>word_representation</th>\n",
              "    </tr>\n",
              "  </thead>\n",
              "  <tbody>\n",
              "    <tr>\n",
              "      <th>0</th>\n",
              "      <td>0</td>\n",
              "      <td>w373517 w383437 w374393 w87179 w289496 w327385...</td>\n",
              "    </tr>\n",
              "    <tr>\n",
              "      <th>1</th>\n",
              "      <td>1</td>\n",
              "      <td>w237465 w167111 w279437 w194870 w351537 w17560...</td>\n",
              "    </tr>\n",
              "    <tr>\n",
              "      <th>2</th>\n",
              "      <td>2</td>\n",
              "      <td>w151648 w93366 w121255 w193800 w71240 w48576 w...</td>\n",
              "    </tr>\n",
              "    <tr>\n",
              "      <th>3</th>\n",
              "      <td>3</td>\n",
              "      <td>w182664 w317736 w33852 w111248 w45374 w209361 ...</td>\n",
              "    </tr>\n",
              "    <tr>\n",
              "      <th>4</th>\n",
              "      <td>4</td>\n",
              "      <td>w206647 w236725 w99560 w338476 w75409 w36882 w...</td>\n",
              "    </tr>\n",
              "    <tr>\n",
              "      <th>5</th>\n",
              "      <td>5</td>\n",
              "      <td>w256553 w182887 w239430 w96414 w276473 w217871...</td>\n",
              "    </tr>\n",
              "    <tr>\n",
              "      <th>6</th>\n",
              "      <td>6</td>\n",
              "      <td>w305957 w254429 w215751 w155034 w287643 w45765...</td>\n",
              "    </tr>\n",
              "    <tr>\n",
              "      <th>7</th>\n",
              "      <td>7</td>\n",
              "      <td>w318673 w350483 w356690 w186076 w151648 w34893...</td>\n",
              "    </tr>\n",
              "    <tr>\n",
              "      <th>8</th>\n",
              "      <td>8</td>\n",
              "      <td>w500001 w128292 w253354 w254516 w102910 w37439...</td>\n",
              "    </tr>\n",
              "    <tr>\n",
              "      <th>9</th>\n",
              "      <td>9</td>\n",
              "      <td>w41024 w237465 w95569 w174897 w103096 w237465 ...</td>\n",
              "    </tr>\n",
              "  </tbody>\n",
              "</table>\n",
              "</div>"
            ],
            "text/plain": [
              "   id                                word_representation\n",
              "0   0  w373517 w383437 w374393 w87179 w289496 w327385...\n",
              "1   1  w237465 w167111 w279437 w194870 w351537 w17560...\n",
              "2   2  w151648 w93366 w121255 w193800 w71240 w48576 w...\n",
              "3   3  w182664 w317736 w33852 w111248 w45374 w209361 ...\n",
              "4   4  w206647 w236725 w99560 w338476 w75409 w36882 w...\n",
              "5   5  w256553 w182887 w239430 w96414 w276473 w217871...\n",
              "6   6  w305957 w254429 w215751 w155034 w287643 w45765...\n",
              "7   7  w318673 w350483 w356690 w186076 w151648 w34893...\n",
              "8   8  w500001 w128292 w253354 w254516 w102910 w37439...\n",
              "9   9  w41024 w237465 w95569 w174897 w103096 w237465 ..."
            ]
          },
          "metadata": {
            "tags": []
          },
          "execution_count": 4
        }
      ]
    },
    {
      "cell_type": "code",
      "metadata": {
        "id": "kFKRrezkviKn",
        "colab_type": "code",
        "colab": {}
      },
      "source": [
        "with open(root_dir+\"word_embeddings.pkl\", 'rb') as pickle_file:\n",
        "  content = pickle.load(pickle_file)"
      ],
      "execution_count": null,
      "outputs": []
    },
    {
      "cell_type": "code",
      "metadata": {
        "id": "NHXrgqktviKr",
        "colab_type": "code",
        "colab": {
          "base_uri": "https://localhost:8080/",
          "height": 618
        },
        "outputId": "589aa0de-c6f3-434a-c251-34ea2402e204"
      },
      "source": [
        "# Create databunch\n",
        "comb = train.append(test) # Use combined df for lm\n",
        "data = (TextList.from_df(comb, cols='word_representation')\n",
        "                .split_by_rand_pct(0.1)\n",
        "                .label_for_lm()  \n",
        "                .databunch(bs=64))\n",
        "data.show_batch()"
      ],
      "execution_count": null,
      "outputs": [
        {
          "output_type": "display_data",
          "data": {
            "text/html": [
              ""
            ],
            "text/plain": [
              "<IPython.core.display.HTML object>"
            ]
          },
          "metadata": {
            "tags": []
          }
        },
        {
          "output_type": "display_data",
          "data": {
            "text/html": [
              ""
            ],
            "text/plain": [
              "<IPython.core.display.HTML object>"
            ]
          },
          "metadata": {
            "tags": []
          }
        },
        {
          "output_type": "display_data",
          "data": {
            "text/html": [
              "<table border=\"1\" class=\"dataframe\">\n",
              "  <thead>\n",
              "    <tr style=\"text-align: right;\">\n",
              "      <th>idx</th>\n",
              "      <th>text</th>\n",
              "    </tr>\n",
              "  </thead>\n",
              "  <tbody>\n",
              "    <tr>\n",
              "      <td>0</td>\n",
              "      <td>w71240 w356796 w326106 w34893 w175250 w217578 w186076 w349078 xxunk w241910 xxbos w53495 w306061 w372126 w47982 w66980 w189406 w71392 w217871 w127234 w301260 w51947 w336335 w217871 xxunk w500123 w221983 w103141 w105773 w318673 w380347 w201668 xxbos w173317 w39222 w207614 w136665 w394246 w197783 w193800 w500179 w66980 w392147 w373260 w322219 w245476 w52265 w217871 w30555 w296675 w207614 w34893 w113598 w338587 w267311 w186076 w222433 w34893 w383444 w115724 w71240 w311583 w89538 w317619 w112319 w165609 w173915 w314686 xxbos w373517</td>\n",
              "    </tr>\n",
              "    <tr>\n",
              "      <td>1</td>\n",
              "      <td>w83749 w256553 w218713 w286461 w221980 w230729 w111248 w181937 w22890 w121735 w356891 w250138 w373432 w323852 xxbos w237465 w53495 w372126 w47982 w66980 w189406 w71392 w217871 w127234 w141635 w339993 w221983 w217871 w204762 w150363 w381605 w264611 w209018 w177163 w342007 w103141 w318673 w45021 w380347 w201668 xxbos w142023 w186076 w309049 w373517 w6691 w275199 w374393 w286461 w62861 w500121 w135270 w51947 w111939 w186076 w5713 w195317 w356690 w398645 w286461 w198149 w135431 w288596 w155411 w257531 w48776 w171593 w197783 xxbos w112319</td>\n",
              "    </tr>\n",
              "    <tr>\n",
              "      <td>2</td>\n",
              "      <td>w29840 w12175 w314686 xxbos w386891 w391558 w5 xxrep 4 0 2 w374574 w127737 w286083 w8992 w197783 w193800 w74022 w117890 w217871 w389043 w1867 w120979 w105773 w194870 w217871 w34893 w87179 w289496 w312826 w319927 w22890 w392167 xxbos w112474 w198528 w250138 w311583 w368918 w261297 w28646 w239430 w241910 w70293 w194427 w311215 w42169 w256897 w270233 w33502 w269165 w82341 w370005 w66217 xxbos w386891 w391558 w5 xxrep 4 0 2 w374574 w34893 w286083 w8992 xxunk w221983 w105773 w12216</td>\n",
              "    </tr>\n",
              "    <tr>\n",
              "      <td>3</td>\n",
              "      <td>w39302 w118624 w314686 w186076 w399290 w194870 w52572 w253354 w500525 w164871 w371438 w392167 xxbos w5797 w374393 w83112 w286461 w71392 w253067 w69002 w256214 w71240 w311583 w115724 w500211 w36882 w395855 w218713 w243012 w10271 xxbos w194870 w39947 w164832 w203992 w105773 w194870 w286461 w111498 w286083 w253067 w193800 w116749 w500060 w221496 w202359 w165609 w314686 xxbos w44401 w94172 w136665 w307868 w120979 w9294 w267864 w500021 w70293 w194427 w311215 w5348 w42169 w256897 w270233 w33502 w269165 w82341 w66217 xxbos w142023</td>\n",
              "    </tr>\n",
              "    <tr>\n",
              "      <td>4</td>\n",
              "      <td>w186076 w337250 w349078 w204762 w150422 w500384 xxunk w1867 w338476 w36882 xxbos w318673 w80884 w385278 w34893 w121255 w42500 w186076 w327774 w34893 xxunk w221983 w143460 w39222 w311583 w318673 w87179 w10065 w399365 w161756 w68334 w382659 w221983 xxbos w155034 w256553 w111248 w376233 w70856 w250138 w186076 w240587 w334524 w207614 w101837 w70856 w82660 w280823 w286297 w250138 w186076 w240587 xxbos w7678 w198528 w380494 w221983 w144920 w187552 w197783 w193800 w94172 w120979 w70293 w194427 w5348 w42169 w256897 w270233 w33502</td>\n",
              "    </tr>\n",
              "  </tbody>\n",
              "</table>"
            ],
            "text/plain": [
              "<IPython.core.display.HTML object>"
            ]
          },
          "metadata": {
            "tags": []
          }
        }
      ]
    },
    {
      "cell_type": "code",
      "metadata": {
        "id": "mUGB8kJnviKu",
        "colab_type": "code",
        "colab": {
          "base_uri": "https://localhost:8080/",
          "height": 435
        },
        "outputId": "be665ba1-194d-4c8d-927f-24c4e7b9dd1a"
      },
      "source": [
        "learn = language_model_learner(data,AWD_LSTM, drop_mult=0.3)\n",
        "\n",
        "# select the appropriate learning rate\n",
        "learn.lr_find()\n",
        "learn.recorder.plot()"
      ],
      "execution_count": null,
      "outputs": [
        {
          "output_type": "display_data",
          "data": {
            "text/html": [
              "\n",
              "    <div>\n",
              "        <style>\n",
              "            /* Turns off some styling */\n",
              "            progress {\n",
              "                /* gets rid of default border in Firefox and Opera. */\n",
              "                border: none;\n",
              "                /* Needs to be in here for Safari polyfill so background images work as expected. */\n",
              "                background-size: auto;\n",
              "            }\n",
              "            .progress-bar-interrupted, .progress-bar-interrupted::-webkit-progress-bar {\n",
              "                background: #F44336;\n",
              "            }\n",
              "        </style>\n",
              "      <progress value='2' class='' max='3' style='width:300px; height:20px; vertical-align: middle;'></progress>\n",
              "      66.67% [2/3 00:07<00:03]\n",
              "    </div>\n",
              "    \n",
              "<table border=\"1\" class=\"dataframe\">\n",
              "  <thead>\n",
              "    <tr style=\"text-align: left;\">\n",
              "      <th>epoch</th>\n",
              "      <th>train_loss</th>\n",
              "      <th>valid_loss</th>\n",
              "      <th>accuracy</th>\n",
              "      <th>time</th>\n",
              "    </tr>\n",
              "  </thead>\n",
              "  <tbody>\n",
              "    <tr>\n",
              "      <td>0</td>\n",
              "      <td>10.133081</td>\n",
              "      <td>#na#</td>\n",
              "      <td>00:03</td>\n",
              "    </tr>\n",
              "    <tr>\n",
              "      <td>1</td>\n",
              "      <td>8.061770</td>\n",
              "      <td>#na#</td>\n",
              "      <td>00:03</td>\n",
              "    </tr>\n",
              "  </tbody>\n",
              "</table><p>\n",
              "\n",
              "    <div>\n",
              "        <style>\n",
              "            /* Turns off some styling */\n",
              "            progress {\n",
              "                /* gets rid of default border in Firefox and Opera. */\n",
              "                border: none;\n",
              "                /* Needs to be in here for Safari polyfill so background images work as expected. */\n",
              "                background-size: auto;\n",
              "            }\n",
              "            .progress-bar-interrupted, .progress-bar-interrupted::-webkit-progress-bar {\n",
              "                background: #F44336;\n",
              "            }\n",
              "        </style>\n",
              "      <progress value='15' class='' max='42' style='width:300px; height:20px; vertical-align: middle;'></progress>\n",
              "      35.71% [15/42 00:01<00:02 7.7574]\n",
              "    </div>\n",
              "    "
            ],
            "text/plain": [
              "<IPython.core.display.HTML object>"
            ]
          },
          "metadata": {
            "tags": []
          }
        },
        {
          "output_type": "stream",
          "text": [
            "LR Finder is complete, type {learner_name}.recorder.plot() to see the graph.\n"
          ],
          "name": "stdout"
        },
        {
          "output_type": "display_data",
          "data": {
            "image/png": "[encoded data removed]",
            "text/plain": [
              "<Figure size 432x288 with 1 Axes>"
            ]
          },
          "metadata": {
            "tags": [],
            "needs_background": "light"
          }
        }
      ]
    },
    {
      "cell_type": "code",
      "metadata": {
        "id": "WYaiiLyfpbtX",
        "colab_type": "code",
        "colab": {}
      },
      "source": [
        "learn.save(\"zero\")"
      ],
      "execution_count": null,
      "outputs": []
    },
    {
      "cell_type": "code",
      "metadata": {
        "id": "3oxB2vvCGQVv",
        "colab_type": "code",
        "colab": {
          "base_uri": "https://localhost:8080/",
          "height": 447
        },
        "outputId": "1904c616-37de-4272-9e4a-3ae7dce2943a"
      },
      "source": [
        "learn.load(\"zero\")\n",
        "learn.fit_one_cycle(13, 1e-2, moms=(0.8, 0.7))\n",
        "# learn.save_encoder('fine_tuned_enc')"
      ],
      "execution_count": null,
      "outputs": [
        {
          "output_type": "display_data",
          "data": {
            "text/html": [
              "<table border=\"1\" class=\"dataframe\">\n",
              "  <thead>\n",
              "    <tr style=\"text-align: left;\">\n",
              "      <th>epoch</th>\n",
              "      <th>train_loss</th>\n",
              "      <th>valid_loss</th>\n",
              "      <th>accuracy</th>\n",
              "      <th>time</th>\n",
              "    </tr>\n",
              "  </thead>\n",
              "  <tbody>\n",
              "    <tr>\n",
              "      <td>0</td>\n",
              "      <td>8.475259</td>\n",
              "      <td>6.767423</td>\n",
              "      <td>0.052054</td>\n",
              "      <td>00:03</td>\n",
              "    </tr>\n",
              "    <tr>\n",
              "      <td>1</td>\n",
              "      <td>6.924409</td>\n",
              "      <td>5.817599</td>\n",
              "      <td>0.100580</td>\n",
              "      <td>00:03</td>\n",
              "    </tr>\n",
              "    <tr>\n",
              "      <td>2</td>\n",
              "      <td>5.933507</td>\n",
              "      <td>4.453745</td>\n",
              "      <td>0.244732</td>\n",
              "      <td>00:03</td>\n",
              "    </tr>\n",
              "    <tr>\n",
              "      <td>3</td>\n",
              "      <td>4.659141</td>\n",
              "      <td>3.182629</td>\n",
              "      <td>0.451518</td>\n",
              "      <td>00:03</td>\n",
              "    </tr>\n",
              "    <tr>\n",
              "      <td>4</td>\n",
              "      <td>3.713822</td>\n",
              "      <td>2.801981</td>\n",
              "      <td>0.497813</td>\n",
              "      <td>00:03</td>\n",
              "    </tr>\n",
              "    <tr>\n",
              "      <td>5</td>\n",
              "      <td>3.136292</td>\n",
              "      <td>2.624682</td>\n",
              "      <td>0.521384</td>\n",
              "      <td>00:03</td>\n",
              "    </tr>\n",
              "    <tr>\n",
              "      <td>6</td>\n",
              "      <td>2.771492</td>\n",
              "      <td>2.521738</td>\n",
              "      <td>0.533036</td>\n",
              "      <td>00:03</td>\n",
              "    </tr>\n",
              "    <tr>\n",
              "      <td>7</td>\n",
              "      <td>2.537674</td>\n",
              "      <td>2.454271</td>\n",
              "      <td>0.543170</td>\n",
              "      <td>00:03</td>\n",
              "    </tr>\n",
              "    <tr>\n",
              "      <td>8</td>\n",
              "      <td>2.376188</td>\n",
              "      <td>2.409844</td>\n",
              "      <td>0.547768</td>\n",
              "      <td>00:03</td>\n",
              "    </tr>\n",
              "    <tr>\n",
              "      <td>9</td>\n",
              "      <td>2.268250</td>\n",
              "      <td>2.383321</td>\n",
              "      <td>0.553661</td>\n",
              "      <td>00:03</td>\n",
              "    </tr>\n",
              "    <tr>\n",
              "      <td>10</td>\n",
              "      <td>2.192052</td>\n",
              "      <td>2.368017</td>\n",
              "      <td>0.555804</td>\n",
              "      <td>00:03</td>\n",
              "    </tr>\n",
              "    <tr>\n",
              "      <td>11</td>\n",
              "      <td>2.140428</td>\n",
              "      <td>2.366486</td>\n",
              "      <td>0.555313</td>\n",
              "      <td>00:03</td>\n",
              "    </tr>\n",
              "    <tr>\n",
              "      <td>12</td>\n",
              "      <td>2.107395</td>\n",
              "      <td>2.364277</td>\n",
              "      <td>0.556116</td>\n",
              "      <td>00:03</td>\n",
              "    </tr>\n",
              "  </tbody>\n",
              "</table>"
            ],
            "text/plain": [
              "<IPython.core.display.HTML object>"
            ]
          },
          "metadata": {
            "tags": []
          }
        }
      ]
    },
    {
      "cell_type": "code",
      "metadata": {
        "id": "Ph47SQ2Zqejj",
        "colab_type": "code",
        "colab": {}
      },
      "source": [
        "# learn.save_encoder('fine_tuned_enc')\n",
        "# learn.save(\"lm\")"
      ],
      "execution_count": null,
      "outputs": []
    },
    {
      "cell_type": "code",
      "metadata": {
        "id": "Bm8a9GoSYIaF",
        "colab_type": "code",
        "colab": {
          "base_uri": "https://localhost:8080/",
          "height": 355
        },
        "outputId": "dfe13094-ab6a-4edc-c06d-de67550df76f"
      },
      "source": [
        "learn.freeze_to(-3)\n",
        "learn.fit_one_cycle(10, slice(5e-4/(2.6**4), 5e-4), moms=(0.8, 0.7))\n",
        "# learn.save_encoder('fine_tuned_enc')"
      ],
      "execution_count": null,
      "outputs": [
        {
          "output_type": "display_data",
          "data": {
            "text/html": [
              "<table border=\"1\" class=\"dataframe\">\n",
              "  <thead>\n",
              "    <tr style=\"text-align: left;\">\n",
              "      <th>epoch</th>\n",
              "      <th>train_loss</th>\n",
              "      <th>valid_loss</th>\n",
              "      <th>accuracy</th>\n",
              "      <th>time</th>\n",
              "    </tr>\n",
              "  </thead>\n",
              "  <tbody>\n",
              "    <tr>\n",
              "      <td>0</td>\n",
              "      <td>2.085057</td>\n",
              "      <td>2.359607</td>\n",
              "      <td>0.556652</td>\n",
              "      <td>00:04</td>\n",
              "    </tr>\n",
              "    <tr>\n",
              "      <td>1</td>\n",
              "      <td>2.076278</td>\n",
              "      <td>2.343947</td>\n",
              "      <td>0.559955</td>\n",
              "      <td>00:04</td>\n",
              "    </tr>\n",
              "    <tr>\n",
              "      <td>2</td>\n",
              "      <td>2.066374</td>\n",
              "      <td>2.326562</td>\n",
              "      <td>0.562723</td>\n",
              "      <td>00:04</td>\n",
              "    </tr>\n",
              "    <tr>\n",
              "      <td>3</td>\n",
              "      <td>2.038255</td>\n",
              "      <td>2.316863</td>\n",
              "      <td>0.564107</td>\n",
              "      <td>00:04</td>\n",
              "    </tr>\n",
              "    <tr>\n",
              "      <td>4</td>\n",
              "      <td>2.014101</td>\n",
              "      <td>2.301111</td>\n",
              "      <td>0.566205</td>\n",
              "      <td>00:04</td>\n",
              "    </tr>\n",
              "    <tr>\n",
              "      <td>5</td>\n",
              "      <td>1.997233</td>\n",
              "      <td>2.292094</td>\n",
              "      <td>0.567366</td>\n",
              "      <td>00:04</td>\n",
              "    </tr>\n",
              "    <tr>\n",
              "      <td>6</td>\n",
              "      <td>1.975109</td>\n",
              "      <td>2.291029</td>\n",
              "      <td>0.567366</td>\n",
              "      <td>00:04</td>\n",
              "    </tr>\n",
              "    <tr>\n",
              "      <td>7</td>\n",
              "      <td>1.959458</td>\n",
              "      <td>2.283796</td>\n",
              "      <td>0.567634</td>\n",
              "      <td>00:04</td>\n",
              "    </tr>\n",
              "    <tr>\n",
              "      <td>8</td>\n",
              "      <td>1.948042</td>\n",
              "      <td>2.282850</td>\n",
              "      <td>0.568705</td>\n",
              "      <td>00:04</td>\n",
              "    </tr>\n",
              "    <tr>\n",
              "      <td>9</td>\n",
              "      <td>1.939695</td>\n",
              "      <td>2.284847</td>\n",
              "      <td>0.568170</td>\n",
              "      <td>00:04</td>\n",
              "    </tr>\n",
              "  </tbody>\n",
              "</table>"
            ],
            "text/plain": [
              "<IPython.core.display.HTML object>"
            ]
          },
          "metadata": {
            "tags": []
          }
        }
      ]
    },
    {
      "cell_type": "code",
      "metadata": {
        "id": "-iJ6HgAVEsZK",
        "colab_type": "code",
        "colab": {
          "base_uri": "https://localhost:8080/",
          "height": 462
        },
        "outputId": "2994a354-9a68-471e-e42a-a16b8be07834"
      },
      "source": [
        "label_cols = [\"outwear\",\"top\",\"trousers\",\"women dresses\",\"women skirts\"]\n",
        "\n",
        "test_datalist = TextList.from_df(test, cols='word_representation', vocab=data.vocab)\n",
        "\n",
        "data_clas = (TextList.from_df(train, cols='word_representation', vocab=data.vocab)\n",
        "             .split_by_rand_pct(0.1)\n",
        "             .label_from_df(cols= label_cols , classes=label_cols)\n",
        "             .add_test(test_datalist)\n",
        "             .databunch(bs=32))\n",
        "\n",
        "data_clas.show_batch()"
      ],
      "execution_count": null,
      "outputs": [
        {
          "output_type": "display_data",
          "data": {
            "text/html": [
              ""
            ],
            "text/plain": [
              "<IPython.core.display.HTML object>"
            ]
          },
          "metadata": {
            "tags": []
          }
        },
        {
          "output_type": "display_data",
          "data": {
            "text/html": [
              ""
            ],
            "text/plain": [
              "<IPython.core.display.HTML object>"
            ]
          },
          "metadata": {
            "tags": []
          }
        },
        {
          "output_type": "display_data",
          "data": {
            "text/html": [
              ""
            ],
            "text/plain": [
              "<IPython.core.display.HTML object>"
            ]
          },
          "metadata": {
            "tags": []
          }
        },
        {
          "output_type": "display_data",
          "data": {
            "text/html": [
              "<table border=\"1\" class=\"dataframe\">\n",
              "  <thead>\n",
              "    <tr style=\"text-align: right;\">\n",
              "      <th>text</th>\n",
              "      <th>target</th>\n",
              "    </tr>\n",
              "  </thead>\n",
              "  <tbody>\n",
              "    <tr>\n",
              "      <td>xxbos w173317 w39222 w207614 w93366 w230346 w323671 xxunk w137804 w279750 w500344 w294820 w33992 w66980 w392147 w373260 w322219 w245476 w52265 w217871 w296675 w207614 w34893 w113598 w338587 w267311 w186076 w222433 w34893 w341569 w204762 w101681 w175395 w115724 w266998 w171593 w36882 w384336 w311583 w89538 w236725 w66980 w384336 w192814 w193067 w311583 w241910 w113637</td>\n",
              "      <td>top;trousers</td>\n",
              "    </tr>\n",
              "    <tr>\n",
              "      <td>xxbos w39222 w207614 w553 w225970 w71958 w121255 w314686 w66980 w392147 w373260 w322219 w245476 w52265 w217871 w30555 w296675 w207614 w34893 w113598 w267311 w186076 w222433 w34893 w341569 w382662 w79536 w97882 w26335 w208909 w255331 w12685 w311583 w89538 w237221 w286596 w54702 w3 xxrep 4 2 4 w325608</td>\n",
              "      <td>trousers</td>\n",
              "    </tr>\n",
              "    <tr>\n",
              "      <td>xxbos w173317 w39222 w553 w230707 w368487 w303707 w92187 w314686 w66980 w392147 w373260 w322219 w52265 w217871 w30555 w296675 w207614 w34893 w113598 w338587 w267311 w186076 w222433 w34893 w341569 w378592 w234583 w101837 w155411 w294820 w33992 w311583 w89538 w280631 w198528 w29840 w345757 w1867 w120979</td>\n",
              "      <td>top;trousers</td>\n",
              "    </tr>\n",
              "    <tr>\n",
              "      <td>xxbos w173317 w39222 w553 w380347 w115724 w288320 w151045 w116057 w66980 w392147 w373260 w322219 w245476 w52265 w217871 w30555 w296675 w207614 w34893 w338587 w267311 w186076 w222433 w34893 w341569 w204762 w101681 w314861 w194870 w398740 w338476 w75409 w256214 w71240 w34893 w89538 w223408 w116919 w241910</td>\n",
              "      <td>outwear;trousers</td>\n",
              "    </tr>\n",
              "    <tr>\n",
              "      <td>xxbos w119784 w194870 w31180 w131051 w126729 w269012 w90685 w195317 w53573 w253354 w186076 w41128 w373517 w294269 w78494 w238644 w174897 w240625 w34893 w173688 w384021 w342007 w311583 w219120 w100269 w101837 w105773 w279541 w261801 w253067 w311583 w373517 w314861 w399365 w398740 w282700 w395984 w138132 w342007</td>\n",
              "      <td>outwear</td>\n",
              "    </tr>\n",
              "  </tbody>\n",
              "</table>"
            ],
            "text/plain": [
              "<IPython.core.display.HTML object>"
            ]
          },
          "metadata": {
            "tags": []
          }
        }
      ]
    },
    {
      "cell_type": "code",
      "metadata": {
        "id": "OZ47buhMIfPW",
        "colab_type": "code",
        "colab": {
          "base_uri": "https://localhost:8080/",
          "height": 409
        },
        "outputId": "4944cf39-2535-4e73-90b9-7126910e22d3"
      },
      "source": [
        "f_score = partial(fbeta, thresh=0.2)\n",
        "\n",
        "learn_classifier = text_classifier_learner(data_clas, AWD_LSTM, drop_mult=0.5, metrics=f_score)\n",
        "\n",
        "# load the encoder saved  \n",
        "learn_classifier.load_encoder('fine_tuned_enc')\n",
        "learn_classifier.freeze()\n",
        "\n",
        "# select the appropriate learning rate\n",
        "learn_classifier.lr_find()\n",
        "\n",
        "# we typically find the point where the slope is steepest\n",
        "learn_classifier.recorder.plot(suggestion=True)"
      ],
      "execution_count": null,
      "outputs": [
        {
          "output_type": "display_data",
          "data": {
            "text/html": [
              "\n",
              "    <div>\n",
              "        <style>\n",
              "            /* Turns off some styling */\n",
              "            progress {\n",
              "                /* gets rid of default border in Firefox and Opera. */\n",
              "                border: none;\n",
              "                /* Needs to be in here for Safari polyfill so background images work as expected. */\n",
              "                background-size: auto;\n",
              "            }\n",
              "            .progress-bar-interrupted, .progress-bar-interrupted::-webkit-progress-bar {\n",
              "                background: #F44336;\n",
              "            }\n",
              "        </style>\n",
              "      <progress value='0' class='' max='1' style='width:300px; height:20px; vertical-align: middle;'></progress>\n",
              "      0.00% [0/1 00:00<00:00]\n",
              "    </div>\n",
              "    \n",
              "<table border=\"1\" class=\"dataframe\">\n",
              "  <thead>\n",
              "    <tr style=\"text-align: left;\">\n",
              "      <th>epoch</th>\n",
              "      <th>train_loss</th>\n",
              "      <th>valid_loss</th>\n",
              "      <th>fbeta</th>\n",
              "      <th>time</th>\n",
              "    </tr>\n",
              "  </thead>\n",
              "  <tbody>\n",
              "  </tbody>\n",
              "</table><p>\n",
              "\n",
              "    <div>\n",
              "        <style>\n",
              "            /* Turns off some styling */\n",
              "            progress {\n",
              "                /* gets rid of default border in Firefox and Opera. */\n",
              "                border: none;\n",
              "                /* Needs to be in here for Safari polyfill so background images work as expected. */\n",
              "                background-size: auto;\n",
              "            }\n",
              "            .progress-bar-interrupted, .progress-bar-interrupted::-webkit-progress-bar {\n",
              "                background: #F44336;\n",
              "            }\n",
              "        </style>\n",
              "      <progress value='94' class='' max='207' style='width:300px; height:20px; vertical-align: middle;'></progress>\n",
              "      45.41% [94/207 00:01<00:01 0.8889]\n",
              "    </div>\n",
              "    "
            ],
            "text/plain": [
              "<IPython.core.display.HTML object>"
            ]
          },
          "metadata": {
            "tags": []
          }
        },
        {
          "output_type": "stream",
          "text": [
            "LR Finder is complete, type {learner_name}.recorder.plot() to see the graph.\n",
            "Min numerical gradient: 1.00E-01\n",
            "Min loss divided by 10: 5.25E-02\n"
          ],
          "name": "stdout"
        },
        {
          "output_type": "display_data",
          "data": {
            "image/png": "[encoded data removed]",
            "text/plain": [
              "<Figure size 432x288 with 1 Axes>"
            ]
          },
          "metadata": {
            "tags": [],
            "needs_background": "light"
          }
        }
      ]
    },
    {
      "cell_type": "code",
      "metadata": {
        "id": "-lq2kgqSJHVP",
        "colab_type": "code",
        "colab": {
          "base_uri": "https://localhost:8080/",
          "height": 355
        },
        "outputId": "8be3ed99-4aea-45ea-8bbb-d3701ad89bd0"
      },
      "source": [
        "# Fit the model based on selected learning rate\n",
        "learn_classifier.fit_one_cycle(10, 3e-2, moms=(0.8, 0.7))\n",
        "learn_classifier.save('first')"
      ],
      "execution_count": null,
      "outputs": [
        {
          "output_type": "display_data",
          "data": {
            "text/html": [
              "<table border=\"1\" class=\"dataframe\">\n",
              "  <thead>\n",
              "    <tr style=\"text-align: left;\">\n",
              "      <th>epoch</th>\n",
              "      <th>train_loss</th>\n",
              "      <th>valid_loss</th>\n",
              "      <th>fbeta</th>\n",
              "      <th>time</th>\n",
              "    </tr>\n",
              "  </thead>\n",
              "  <tbody>\n",
              "    <tr>\n",
              "      <td>0</td>\n",
              "      <td>0.462775</td>\n",
              "      <td>0.392814</td>\n",
              "      <td>0.825306</td>\n",
              "      <td>00:05</td>\n",
              "    </tr>\n",
              "    <tr>\n",
              "      <td>1</td>\n",
              "      <td>0.434341</td>\n",
              "      <td>0.366560</td>\n",
              "      <td>0.840220</td>\n",
              "      <td>00:05</td>\n",
              "    </tr>\n",
              "    <tr>\n",
              "      <td>2</td>\n",
              "      <td>0.432712</td>\n",
              "      <td>0.404356</td>\n",
              "      <td>0.820677</td>\n",
              "      <td>00:05</td>\n",
              "    </tr>\n",
              "    <tr>\n",
              "      <td>3</td>\n",
              "      <td>0.425945</td>\n",
              "      <td>0.355519</td>\n",
              "      <td>0.845655</td>\n",
              "      <td>00:05</td>\n",
              "    </tr>\n",
              "    <tr>\n",
              "      <td>4</td>\n",
              "      <td>0.421667</td>\n",
              "      <td>0.367964</td>\n",
              "      <td>0.839191</td>\n",
              "      <td>00:06</td>\n",
              "    </tr>\n",
              "    <tr>\n",
              "      <td>5</td>\n",
              "      <td>0.418203</td>\n",
              "      <td>0.353107</td>\n",
              "      <td>0.844019</td>\n",
              "      <td>00:05</td>\n",
              "    </tr>\n",
              "    <tr>\n",
              "      <td>6</td>\n",
              "      <td>0.402038</td>\n",
              "      <td>0.355417</td>\n",
              "      <td>0.849268</td>\n",
              "      <td>00:05</td>\n",
              "    </tr>\n",
              "    <tr>\n",
              "      <td>7</td>\n",
              "      <td>0.392805</td>\n",
              "      <td>0.342472</td>\n",
              "      <td>0.852166</td>\n",
              "      <td>00:05</td>\n",
              "    </tr>\n",
              "    <tr>\n",
              "      <td>8</td>\n",
              "      <td>0.384236</td>\n",
              "      <td>0.341795</td>\n",
              "      <td>0.849107</td>\n",
              "      <td>00:05</td>\n",
              "    </tr>\n",
              "    <tr>\n",
              "      <td>9</td>\n",
              "      <td>0.380464</td>\n",
              "      <td>0.409991</td>\n",
              "      <td>0.849580</td>\n",
              "      <td>00:05</td>\n",
              "    </tr>\n",
              "  </tbody>\n",
              "</table>"
            ],
            "text/plain": [
              "<IPython.core.display.HTML object>"
            ]
          },
          "metadata": {
            "tags": []
          }
        }
      ]
    },
    {
      "cell_type": "code",
      "metadata": {
        "id": "DGQfvCIBZbWn",
        "colab_type": "code",
        "colab": {
          "base_uri": "https://localhost:8080/",
          "height": 355
        },
        "outputId": "9c863ff7-6546-467f-814b-5c97b6ee49d9"
      },
      "source": [
        "learn_classifier.load('first')\n",
        "learn_classifier.freeze_to(-2)\n",
        "learn_classifier.fit_one_cycle(10, slice(1e-2/(2.6**4), 1e-2), moms=(0.8, 0.7))"
      ],
      "execution_count": null,
      "outputs": [
        {
          "output_type": "display_data",
          "data": {
            "text/html": [
              "<table border=\"1\" class=\"dataframe\">\n",
              "  <thead>\n",
              "    <tr style=\"text-align: left;\">\n",
              "      <th>epoch</th>\n",
              "      <th>train_loss</th>\n",
              "      <th>valid_loss</th>\n",
              "      <th>fbeta</th>\n",
              "      <th>time</th>\n",
              "    </tr>\n",
              "  </thead>\n",
              "  <tbody>\n",
              "    <tr>\n",
              "      <td>0</td>\n",
              "      <td>0.370167</td>\n",
              "      <td>0.312809</td>\n",
              "      <td>0.856794</td>\n",
              "      <td>00:06</td>\n",
              "    </tr>\n",
              "    <tr>\n",
              "      <td>1</td>\n",
              "      <td>0.324938</td>\n",
              "      <td>0.261370</td>\n",
              "      <td>0.886500</td>\n",
              "      <td>00:06</td>\n",
              "    </tr>\n",
              "    <tr>\n",
              "      <td>2</td>\n",
              "      <td>0.282953</td>\n",
              "      <td>0.207004</td>\n",
              "      <td>0.905902</td>\n",
              "      <td>00:06</td>\n",
              "    </tr>\n",
              "    <tr>\n",
              "      <td>3</td>\n",
              "      <td>0.224467</td>\n",
              "      <td>0.152374</td>\n",
              "      <td>0.938901</td>\n",
              "      <td>00:06</td>\n",
              "    </tr>\n",
              "    <tr>\n",
              "      <td>4</td>\n",
              "      <td>0.182805</td>\n",
              "      <td>0.125756</td>\n",
              "      <td>0.944960</td>\n",
              "      <td>00:06</td>\n",
              "    </tr>\n",
              "    <tr>\n",
              "      <td>5</td>\n",
              "      <td>0.151158</td>\n",
              "      <td>0.109936</td>\n",
              "      <td>0.953744</td>\n",
              "      <td>00:06</td>\n",
              "    </tr>\n",
              "    <tr>\n",
              "      <td>6</td>\n",
              "      <td>0.140114</td>\n",
              "      <td>0.102484</td>\n",
              "      <td>0.958074</td>\n",
              "      <td>00:06</td>\n",
              "    </tr>\n",
              "    <tr>\n",
              "      <td>7</td>\n",
              "      <td>0.120717</td>\n",
              "      <td>0.098172</td>\n",
              "      <td>0.957739</td>\n",
              "      <td>00:06</td>\n",
              "    </tr>\n",
              "    <tr>\n",
              "      <td>8</td>\n",
              "      <td>0.117198</td>\n",
              "      <td>0.099292</td>\n",
              "      <td>0.957117</td>\n",
              "      <td>00:07</td>\n",
              "    </tr>\n",
              "    <tr>\n",
              "      <td>9</td>\n",
              "      <td>0.108886</td>\n",
              "      <td>0.098019</td>\n",
              "      <td>0.958548</td>\n",
              "      <td>00:06</td>\n",
              "    </tr>\n",
              "  </tbody>\n",
              "</table>"
            ],
            "text/plain": [
              "<IPython.core.display.HTML object>"
            ]
          },
          "metadata": {
            "tags": []
          }
        }
      ]
    },
    {
      "cell_type": "code",
      "metadata": {
        "id": "Ez1ewDp3y8Dy",
        "colab_type": "code",
        "colab": {}
      },
      "source": [
        "learn_classifier.save('second')"
      ],
      "execution_count": null,
      "outputs": []
    },
    {
      "cell_type": "code",
      "metadata": {
        "id": "XBBF7M_Ozded",
        "colab_type": "code",
        "colab": {
          "base_uri": "https://localhost:8080/",
          "height": 202
        },
        "outputId": "8ba7a46b-e1ef-4e8b-9343-5a9c660fb445"
      },
      "source": [
        "learn_classifier.load('second')\n",
        "learn_classifier.fit_one_cycle(5, slice(1e-2/(2.6**4), 1e-2), moms=(0.8, 0.7))"
      ],
      "execution_count": null,
      "outputs": [
        {
          "output_type": "display_data",
          "data": {
            "text/html": [
              "<table border=\"1\" class=\"dataframe\">\n",
              "  <thead>\n",
              "    <tr style=\"text-align: left;\">\n",
              "      <th>epoch</th>\n",
              "      <th>train_loss</th>\n",
              "      <th>valid_loss</th>\n",
              "      <th>fbeta</th>\n",
              "      <th>time</th>\n",
              "    </tr>\n",
              "  </thead>\n",
              "  <tbody>\n",
              "    <tr>\n",
              "      <td>0</td>\n",
              "      <td>0.112516</td>\n",
              "      <td>0.083000</td>\n",
              "      <td>0.967036</td>\n",
              "      <td>00:10</td>\n",
              "    </tr>\n",
              "    <tr>\n",
              "      <td>1</td>\n",
              "      <td>0.097905</td>\n",
              "      <td>0.057873</td>\n",
              "      <td>0.976724</td>\n",
              "      <td>00:11</td>\n",
              "    </tr>\n",
              "    <tr>\n",
              "      <td>2</td>\n",
              "      <td>0.070906</td>\n",
              "      <td>0.050292</td>\n",
              "      <td>0.980891</td>\n",
              "      <td>00:10</td>\n",
              "    </tr>\n",
              "    <tr>\n",
              "      <td>3</td>\n",
              "      <td>0.050654</td>\n",
              "      <td>0.047703</td>\n",
              "      <td>0.981723</td>\n",
              "      <td>00:11</td>\n",
              "    </tr>\n",
              "    <tr>\n",
              "      <td>4</td>\n",
              "      <td>0.036940</td>\n",
              "      <td>0.046503</td>\n",
              "      <td>0.981453</td>\n",
              "      <td>00:10</td>\n",
              "    </tr>\n",
              "  </tbody>\n",
              "</table>"
            ],
            "text/plain": [
              "<IPython.core.display.HTML object>"
            ]
          },
          "metadata": {
            "tags": []
          }
        }
      ]
    },
    {
      "cell_type": "code",
      "metadata": {
        "id": "6wRPkifVzzWe",
        "colab_type": "code",
        "colab": {}
      },
      "source": [
        "learn_classifier.save('second')"
      ],
      "execution_count": null,
      "outputs": []
    },
    {
      "cell_type": "code",
      "metadata": {
        "id": "iQe-hVata9LD",
        "colab_type": "code",
        "colab": {
          "base_uri": "https://localhost:8080/",
          "height": 355
        },
        "outputId": "7206ccc8-8eff-4544-8701-dafa2a16a0b3"
      },
      "source": [
        "learn_classifier.load('second')\n",
        "learn_classifier.freeze_to(-3)\n",
        "learn_classifier.fit_one_cycle(10, slice(5e-3/(2.6**4), 5e-3), moms=(0.8, 0.7))"
      ],
      "execution_count": null,
      "outputs": [
        {
          "output_type": "display_data",
          "data": {
            "text/html": [
              "<table border=\"1\" class=\"dataframe\">\n",
              "  <thead>\n",
              "    <tr style=\"text-align: left;\">\n",
              "      <th>epoch</th>\n",
              "      <th>train_loss</th>\n",
              "      <th>valid_loss</th>\n",
              "      <th>fbeta</th>\n",
              "      <th>time</th>\n",
              "    </tr>\n",
              "  </thead>\n",
              "  <tbody>\n",
              "    <tr>\n",
              "      <td>0</td>\n",
              "      <td>0.041620</td>\n",
              "      <td>0.046279</td>\n",
              "      <td>0.982157</td>\n",
              "      <td>00:10</td>\n",
              "    </tr>\n",
              "    <tr>\n",
              "      <td>1</td>\n",
              "      <td>0.036748</td>\n",
              "      <td>0.047496</td>\n",
              "      <td>0.982606</td>\n",
              "      <td>00:10</td>\n",
              "    </tr>\n",
              "    <tr>\n",
              "      <td>2</td>\n",
              "      <td>0.039979</td>\n",
              "      <td>0.064553</td>\n",
              "      <td>0.982904</td>\n",
              "      <td>00:10</td>\n",
              "    </tr>\n",
              "    <tr>\n",
              "      <td>3</td>\n",
              "      <td>0.041923</td>\n",
              "      <td>0.055371</td>\n",
              "      <td>0.984109</td>\n",
              "      <td>00:11</td>\n",
              "    </tr>\n",
              "    <tr>\n",
              "      <td>4</td>\n",
              "      <td>0.043463</td>\n",
              "      <td>0.055591</td>\n",
              "      <td>0.985052</td>\n",
              "      <td>00:10</td>\n",
              "    </tr>\n",
              "    <tr>\n",
              "      <td>5</td>\n",
              "      <td>0.029758</td>\n",
              "      <td>0.048961</td>\n",
              "      <td>0.986401</td>\n",
              "      <td>00:11</td>\n",
              "    </tr>\n",
              "    <tr>\n",
              "      <td>6</td>\n",
              "      <td>0.027974</td>\n",
              "      <td>0.052501</td>\n",
              "      <td>0.983359</td>\n",
              "      <td>00:10</td>\n",
              "    </tr>\n",
              "    <tr>\n",
              "      <td>7</td>\n",
              "      <td>0.030503</td>\n",
              "      <td>0.053450</td>\n",
              "      <td>0.985391</td>\n",
              "      <td>00:10</td>\n",
              "    </tr>\n",
              "    <tr>\n",
              "      <td>8</td>\n",
              "      <td>0.025145</td>\n",
              "      <td>0.055832</td>\n",
              "      <td>0.984053</td>\n",
              "      <td>00:11</td>\n",
              "    </tr>\n",
              "    <tr>\n",
              "      <td>9</td>\n",
              "      <td>0.023962</td>\n",
              "      <td>0.055216</td>\n",
              "      <td>0.985213</td>\n",
              "      <td>00:11</td>\n",
              "    </tr>\n",
              "  </tbody>\n",
              "</table>"
            ],
            "text/plain": [
              "<IPython.core.display.HTML object>"
            ]
          },
          "metadata": {
            "tags": []
          }
        }
      ]
    },
    {
      "cell_type": "code",
      "metadata": {
        "id": "1GrMDgSrz3Js",
        "colab_type": "code",
        "colab": {}
      },
      "source": [
        "learn_classifier.save('third')"
      ],
      "execution_count": null,
      "outputs": []
    },
    {
      "cell_type": "code",
      "metadata": {
        "id": "7vvnKfCiLRfz",
        "colab_type": "code",
        "colab": {
          "base_uri": "https://localhost:8080/",
          "height": 409
        },
        "outputId": "90947626-bf3a-4192-ba39-a0fa456ec1d0"
      },
      "source": [
        "learn_classifier.load('third')\n",
        "learn_classifier.lr_find()\n",
        "learn_classifier.recorder.plot(suggestion=True)"
      ],
      "execution_count": null,
      "outputs": [
        {
          "output_type": "display_data",
          "data": {
            "text/html": [
              "\n",
              "    <div>\n",
              "        <style>\n",
              "            /* Turns off some styling */\n",
              "            progress {\n",
              "                /* gets rid of default border in Firefox and Opera. */\n",
              "                border: none;\n",
              "                /* Needs to be in here for Safari polyfill so background images work as expected. */\n",
              "                background-size: auto;\n",
              "            }\n",
              "            .progress-bar-interrupted, .progress-bar-interrupted::-webkit-progress-bar {\n",
              "                background: #F44336;\n",
              "            }\n",
              "        </style>\n",
              "      <progress value='0' class='' max='1' style='width:300px; height:20px; vertical-align: middle;'></progress>\n",
              "      0.00% [0/1 00:00<00:00]\n",
              "    </div>\n",
              "    \n",
              "<table border=\"1\" class=\"dataframe\">\n",
              "  <thead>\n",
              "    <tr style=\"text-align: left;\">\n",
              "      <th>epoch</th>\n",
              "      <th>train_loss</th>\n",
              "      <th>valid_loss</th>\n",
              "      <th>fbeta</th>\n",
              "      <th>time</th>\n",
              "    </tr>\n",
              "  </thead>\n",
              "  <tbody>\n",
              "  </tbody>\n",
              "</table><p>\n",
              "\n",
              "    <div>\n",
              "        <style>\n",
              "            /* Turns off some styling */\n",
              "            progress {\n",
              "                /* gets rid of default border in Firefox and Opera. */\n",
              "                border: none;\n",
              "                /* Needs to be in here for Safari polyfill so background images work as expected. */\n",
              "                background-size: auto;\n",
              "            }\n",
              "            .progress-bar-interrupted, .progress-bar-interrupted::-webkit-progress-bar {\n",
              "                background: #F44336;\n",
              "            }\n",
              "        </style>\n",
              "      <progress value='71' class='' max='207' style='width:300px; height:20px; vertical-align: middle;'></progress>\n",
              "      34.30% [71/207 00:03<00:07 0.0319]\n",
              "    </div>\n",
              "    "
            ],
            "text/plain": [
              "<IPython.core.display.HTML object>"
            ]
          },
          "metadata": {
            "tags": []
          }
        },
        {
          "output_type": "stream",
          "text": [
            "LR Finder is complete, type {learner_name}.recorder.plot() to see the graph.\n",
            "Min numerical gradient: 9.12E-07\n",
            "Min loss divided by 10: 4.37E-06\n"
          ],
          "name": "stdout"
        },
        {
          "output_type": "display_data",
          "data": {
            "image/png": "[encoded data removed]",
            "text/plain": [
              "<Figure size 432x288 with 1 Axes>"
            ]
          },
          "metadata": {
            "tags": [],
            "needs_background": "light"
          }
        }
      ]
    },
    {
      "cell_type": "code",
      "metadata": {
        "id": "KFXUNP_K3UoM",
        "colab_type": "code",
        "colab": {}
      },
      "source": [
        "learn_classifier.save('third_lr')"
      ],
      "execution_count": null,
      "outputs": []
    },
    {
      "cell_type": "markdown",
      "metadata": {
        "id": "icmmpdmzH_z1",
        "colab_type": "text"
      },
      "source": [
        "Build on"
      ]
    },
    {
      "cell_type": "code",
      "metadata": {
        "id": "F-gacpUSE_Us",
        "colab_type": "code",
        "colab": {}
      },
      "source": [
        "from fastai.callbacks import *\n",
        "# learn_classifier.load_encoder(\"fine_tuned_enc\")\n",
        "learn_classifier.callbacks = []\n",
        "learn_classifier.freeze_to(-3)\n",
        "learn_classifier.load('bestmodel')\n",
        "learn_classifier.fit_one_cycle(10, slice(1e-6/(2.6**4), 1e-6), moms=(0.8, 0.7),\n",
        "                               callbacks=[SaveModelCallback(learn_classifier, 'fbeta', name=\"fourth\")])\n"
      ],
      "execution_count": null,
      "outputs": []
    },
    {
      "cell_type": "code",
      "metadata": {
        "id": "7SLpZap-3Gr_",
        "colab_type": "code",
        "colab": {}
      },
      "source": [
        "from fastai.callbacks import *\n",
        "learn_classifier.fit_one_cycle(10, slice(1e-6/(2.6**4), 1e-6), moms=(0.8, 0.7),\n",
        "                               callbacks=[SaveModelCallback(learn_classifier, 'fbeta', name=\"fourth\")])"
      ],
      "execution_count": null,
      "outputs": []
    },
    {
      "cell_type": "code",
      "metadata": {
        "id": "YlOZ_XOFcpvC",
        "colab_type": "code",
        "colab": {
          "base_uri": "https://localhost:8080/",
          "height": 409
        },
        "outputId": "2f6d3cfe-97df-4a1a-fad0-4bc2605ed75d"
      },
      "source": [
        "learn_classifier.load(\"bestmodel\")\n",
        "learn_classifier.lr_find()\n",
        "learn_classifier.recorder.plot(suggestion=True)"
      ],
      "execution_count": null,
      "outputs": [
        {
          "output_type": "display_data",
          "data": {
            "text/html": [
              "\n",
              "    <div>\n",
              "        <style>\n",
              "            /* Turns off some styling */\n",
              "            progress {\n",
              "                /* gets rid of default border in Firefox and Opera. */\n",
              "                border: none;\n",
              "                /* Needs to be in here for Safari polyfill so background images work as expected. */\n",
              "                background-size: auto;\n",
              "            }\n",
              "            .progress-bar-interrupted, .progress-bar-interrupted::-webkit-progress-bar {\n",
              "                background: #F44336;\n",
              "            }\n",
              "        </style>\n",
              "      <progress value='0' class='' max='1' style='width:300px; height:20px; vertical-align: middle;'></progress>\n",
              "      0.00% [0/1 00:00<00:00]\n",
              "    </div>\n",
              "    \n",
              "<table border=\"1\" class=\"dataframe\">\n",
              "  <thead>\n",
              "    <tr style=\"text-align: left;\">\n",
              "      <th>epoch</th>\n",
              "      <th>train_loss</th>\n",
              "      <th>valid_loss</th>\n",
              "      <th>fbeta</th>\n",
              "      <th>time</th>\n",
              "    </tr>\n",
              "  </thead>\n",
              "  <tbody>\n",
              "  </tbody>\n",
              "</table><p>\n",
              "\n",
              "    <div>\n",
              "        <style>\n",
              "            /* Turns off some styling */\n",
              "            progress {\n",
              "                /* gets rid of default border in Firefox and Opera. */\n",
              "                border: none;\n",
              "                /* Needs to be in here for Safari polyfill so background images work as expected. */\n",
              "                background-size: auto;\n",
              "            }\n",
              "            .progress-bar-interrupted, .progress-bar-interrupted::-webkit-progress-bar {\n",
              "                background: #F44336;\n",
              "            }\n",
              "        </style>\n",
              "      <progress value='85' class='' max='207' style='width:300px; height:20px; vertical-align: middle;'></progress>\n",
              "      41.06% [85/207 00:02<00:03 0.8569]\n",
              "    </div>\n",
              "    "
            ],
            "text/plain": [
              "<IPython.core.display.HTML object>"
            ]
          },
          "metadata": {
            "tags": []
          }
        },
        {
          "output_type": "stream",
          "text": [
            "LR Finder is complete, type {learner_name}.recorder.plot() to see the graph.\n",
            "Min numerical gradient: 7.59E-07\n",
            "Min loss divided by 10: 5.25E-02\n"
          ],
          "name": "stdout"
        },
        {
          "output_type": "display_data",
          "data": {
            "image/png": "[encoded data removed]",
            "text/plain": [
              "<Figure size 432x288 with 1 Axes>"
            ]
          },
          "metadata": {
            "tags": [],
            "needs_background": "light"
          }
        }
      ]
    },
    {
      "cell_type": "code",
      "metadata": {
        "id": "ueDzYjGp85jT",
        "colab_type": "code",
        "colab": {
          "base_uri": "https://localhost:8080/",
          "height": 407
        },
        "outputId": "2db6d8ba-506c-4787-9931-7697f20917a8"
      },
      "source": [
        "learn_classifier.load('bestmodel')\n",
        "learn_classifier.fit_one_cycle(10, slice(3e-6/(2.6**4), 3e-6), moms=(0.8, 0.7),\n",
        "                               callbacks=[SaveModelCallback(learn_classifier, 'fbeta', name=\"fourth\")])"
      ],
      "execution_count": null,
      "outputs": [
        {
          "output_type": "display_data",
          "data": {
            "text/html": [
              "<table border=\"1\" class=\"dataframe\">\n",
              "  <thead>\n",
              "    <tr style=\"text-align: left;\">\n",
              "      <th>epoch</th>\n",
              "      <th>train_loss</th>\n",
              "      <th>valid_loss</th>\n",
              "      <th>fbeta</th>\n",
              "      <th>time</th>\n",
              "    </tr>\n",
              "  </thead>\n",
              "  <tbody>\n",
              "    <tr>\n",
              "      <td>0</td>\n",
              "      <td>0.027038</td>\n",
              "      <td>0.052758</td>\n",
              "      <td>0.984556</td>\n",
              "      <td>00:05</td>\n",
              "    </tr>\n",
              "    <tr>\n",
              "      <td>1</td>\n",
              "      <td>0.020336</td>\n",
              "      <td>0.053138</td>\n",
              "      <td>0.985241</td>\n",
              "      <td>00:05</td>\n",
              "    </tr>\n",
              "    <tr>\n",
              "      <td>2</td>\n",
              "      <td>0.023503</td>\n",
              "      <td>0.052449</td>\n",
              "      <td>0.984987</td>\n",
              "      <td>00:05</td>\n",
              "    </tr>\n",
              "    <tr>\n",
              "      <td>3</td>\n",
              "      <td>0.021956</td>\n",
              "      <td>0.050914</td>\n",
              "      <td>0.986979</td>\n",
              "      <td>00:05</td>\n",
              "    </tr>\n",
              "    <tr>\n",
              "      <td>4</td>\n",
              "      <td>0.021924</td>\n",
              "      <td>0.090270</td>\n",
              "      <td>0.986256</td>\n",
              "      <td>00:06</td>\n",
              "    </tr>\n",
              "    <tr>\n",
              "      <td>5</td>\n",
              "      <td>0.019315</td>\n",
              "      <td>0.051742</td>\n",
              "      <td>0.986322</td>\n",
              "      <td>00:05</td>\n",
              "    </tr>\n",
              "    <tr>\n",
              "      <td>6</td>\n",
              "      <td>0.024588</td>\n",
              "      <td>0.051425</td>\n",
              "      <td>0.985042</td>\n",
              "      <td>00:05</td>\n",
              "    </tr>\n",
              "    <tr>\n",
              "      <td>7</td>\n",
              "      <td>0.022643</td>\n",
              "      <td>0.085275</td>\n",
              "      <td>0.986265</td>\n",
              "      <td>00:05</td>\n",
              "    </tr>\n",
              "    <tr>\n",
              "      <td>8</td>\n",
              "      <td>0.029593</td>\n",
              "      <td>0.052759</td>\n",
              "      <td>0.985590</td>\n",
              "      <td>00:05</td>\n",
              "    </tr>\n",
              "    <tr>\n",
              "      <td>9</td>\n",
              "      <td>0.031673</td>\n",
              "      <td>0.053947</td>\n",
              "      <td>0.985681</td>\n",
              "      <td>00:05</td>\n",
              "    </tr>\n",
              "  </tbody>\n",
              "</table>"
            ],
            "text/plain": [
              "<IPython.core.display.HTML object>"
            ]
          },
          "metadata": {
            "tags": []
          }
        },
        {
          "output_type": "stream",
          "text": [
            "Better model found at epoch 0 with fbeta value: 0.9845561385154724.\n",
            "Better model found at epoch 1 with fbeta value: 0.9852405786514282.\n",
            "Better model found at epoch 3 with fbeta value: 0.9869788289070129.\n"
          ],
          "name": "stdout"
        }
      ]
    },
    {
      "cell_type": "code",
      "metadata": {
        "id": "aDOht5Yl9gXT",
        "colab_type": "code",
        "colab": {
          "base_uri": "https://localhost:8080/",
          "height": 35
        },
        "outputId": "cae27d34-8268-4c48-fedf-079c3160d789"
      },
      "source": [
        "learn_classifier.load('bestmodel')"
      ],
      "execution_count": null,
      "outputs": [
        {
          "output_type": "execute_result",
          "data": {
            "text/plain": [
              "functools.partial(<function fbeta at 0x7f2c09f46510>, thresh=0.2)"
            ]
          },
          "metadata": {
            "tags": []
          },
          "execution_count": 94
        }
      ]
    },
    {
      "cell_type": "code",
      "metadata": {
        "id": "IskSPi6Jb_xz",
        "colab_type": "code",
        "colab": {
          "base_uri": "https://localhost:8080/",
          "height": 202
        },
        "outputId": "9e289338-9581-4f40-9942-3bdc0b847fb8"
      },
      "source": [
        "learn_classifier.load('third')\n",
        "learn_classifier.freeze_to(-4)\n",
        "learn_classifier.fit_one_cycle(5, slice(5e-4/(2.6**4), 5e-4), moms=(0.8, 0.7))"
      ],
      "execution_count": null,
      "outputs": [
        {
          "output_type": "display_data",
          "data": {
            "text/html": [
              "<table border=\"1\" class=\"dataframe\">\n",
              "  <thead>\n",
              "    <tr style=\"text-align: left;\">\n",
              "      <th>epoch</th>\n",
              "      <th>train_loss</th>\n",
              "      <th>valid_loss</th>\n",
              "      <th>fbeta</th>\n",
              "      <th>time</th>\n",
              "    </tr>\n",
              "  </thead>\n",
              "  <tbody>\n",
              "    <tr>\n",
              "      <td>0</td>\n",
              "      <td>0.047955</td>\n",
              "      <td>0.060274</td>\n",
              "      <td>0.976620</td>\n",
              "      <td>00:14</td>\n",
              "    </tr>\n",
              "    <tr>\n",
              "      <td>1</td>\n",
              "      <td>0.046684</td>\n",
              "      <td>0.059701</td>\n",
              "      <td>0.977265</td>\n",
              "      <td>00:13</td>\n",
              "    </tr>\n",
              "    <tr>\n",
              "      <td>2</td>\n",
              "      <td>0.042456</td>\n",
              "      <td>0.060986</td>\n",
              "      <td>0.977665</td>\n",
              "      <td>00:14</td>\n",
              "    </tr>\n",
              "    <tr>\n",
              "      <td>3</td>\n",
              "      <td>0.035784</td>\n",
              "      <td>0.058694</td>\n",
              "      <td>0.977450</td>\n",
              "      <td>00:13</td>\n",
              "    </tr>\n",
              "    <tr>\n",
              "      <td>4</td>\n",
              "      <td>0.040259</td>\n",
              "      <td>0.058379</td>\n",
              "      <td>0.979104</td>\n",
              "      <td>00:13</td>\n",
              "    </tr>\n",
              "  </tbody>\n",
              "</table>"
            ],
            "text/plain": [
              "<IPython.core.display.HTML object>"
            ]
          },
          "metadata": {
            "tags": []
          }
        }
      ]
    },
    {
      "cell_type": "code",
      "metadata": {
        "id": "o77UBbYbMGKI",
        "colab_type": "code",
        "colab": {
          "base_uri": "https://localhost:8080/",
          "height": 294
        },
        "outputId": "9b282cdd-bc14-48e9-824c-5952802391fa"
      },
      "source": [
        "learn_classifier.fit_one_cycle(8, slice(5e-4/(2.6**4), 5e-4), moms=(0.8, 0.7))"
      ],
      "execution_count": null,
      "outputs": [
        {
          "output_type": "display_data",
          "data": {
            "text/html": [
              "<table border=\"1\" class=\"dataframe\">\n",
              "  <thead>\n",
              "    <tr style=\"text-align: left;\">\n",
              "      <th>epoch</th>\n",
              "      <th>train_loss</th>\n",
              "      <th>valid_loss</th>\n",
              "      <th>fbeta</th>\n",
              "      <th>time</th>\n",
              "    </tr>\n",
              "  </thead>\n",
              "  <tbody>\n",
              "    <tr>\n",
              "      <td>0</td>\n",
              "      <td>0.035244</td>\n",
              "      <td>0.057273</td>\n",
              "      <td>0.977559</td>\n",
              "      <td>00:13</td>\n",
              "    </tr>\n",
              "    <tr>\n",
              "      <td>1</td>\n",
              "      <td>0.037030</td>\n",
              "      <td>0.057522</td>\n",
              "      <td>0.977709</td>\n",
              "      <td>00:13</td>\n",
              "    </tr>\n",
              "    <tr>\n",
              "      <td>2</td>\n",
              "      <td>0.043070</td>\n",
              "      <td>0.055931</td>\n",
              "      <td>0.979735</td>\n",
              "      <td>00:13</td>\n",
              "    </tr>\n",
              "    <tr>\n",
              "      <td>3</td>\n",
              "      <td>0.032964</td>\n",
              "      <td>0.056663</td>\n",
              "      <td>0.979718</td>\n",
              "      <td>00:13</td>\n",
              "    </tr>\n",
              "    <tr>\n",
              "      <td>4</td>\n",
              "      <td>0.036123</td>\n",
              "      <td>0.055600</td>\n",
              "      <td>0.980221</td>\n",
              "      <td>00:13</td>\n",
              "    </tr>\n",
              "    <tr>\n",
              "      <td>5</td>\n",
              "      <td>0.031733</td>\n",
              "      <td>0.056561</td>\n",
              "      <td>0.979457</td>\n",
              "      <td>00:13</td>\n",
              "    </tr>\n",
              "    <tr>\n",
              "      <td>6</td>\n",
              "      <td>0.034066</td>\n",
              "      <td>0.055417</td>\n",
              "      <td>0.981670</td>\n",
              "      <td>00:13</td>\n",
              "    </tr>\n",
              "    <tr>\n",
              "      <td>7</td>\n",
              "      <td>0.032138</td>\n",
              "      <td>0.058793</td>\n",
              "      <td>0.981262</td>\n",
              "      <td>00:13</td>\n",
              "    </tr>\n",
              "  </tbody>\n",
              "</table>"
            ],
            "text/plain": [
              "<IPython.core.display.HTML object>"
            ]
          },
          "metadata": {
            "tags": []
          }
        }
      ]
    },
    {
      "cell_type": "code",
      "metadata": {
        "id": "TU3J9eYOMbky",
        "colab_type": "code",
        "colab": {}
      },
      "source": [
        "learn_classifier.save('fourth')"
      ],
      "execution_count": null,
      "outputs": []
    },
    {
      "cell_type": "code",
      "metadata": {
        "id": "UG7-A4-ndI2h",
        "colab_type": "code",
        "colab": {}
      },
      "source": [
        "learn_classifier.load('bestmodel')\n",
        "learn_classifier.show_results()"
      ],
      "execution_count": null,
      "outputs": []
    },
    {
      "cell_type": "code",
      "metadata": {
        "id": "iiRkubKJJIBW",
        "colab_type": "code",
        "colab": {
          "base_uri": "https://localhost:8080/",
          "height": 202
        },
        "outputId": "694a4083-f220-4871-982b-80f8dc50590f"
      },
      "source": [
        "preds, target = learn_classifier.get_preds(DatasetType.Test, ordered=True)\n",
        "labels = preds.numpy()\n",
        "\n",
        "test_id = test['id']\n",
        "submission = pd.DataFrame({'id': test_id})\n",
        "submission = pd.concat([submission, pd.DataFrame(preds.numpy(), columns = label_cols)], axis=1).round(0).astype(int)\n",
        "\n",
        "submission.to_csv(root_dir+'submission.csv', index=False)\n",
        "submission.head()"
      ],
      "execution_count": null,
      "outputs": [
        {
          "output_type": "display_data",
          "data": {
            "text/html": [
              ""
            ],
            "text/plain": [
              "<IPython.core.display.HTML object>"
            ]
          },
          "metadata": {
            "tags": []
          }
        },
        {
          "output_type": "execute_result",
          "data": {
            "text/html": [
              "<div>\n",
              "<style scoped>\n",
              "    .dataframe tbody tr th:only-of-type {\n",
              "        vertical-align: middle;\n",
              "    }\n",
              "\n",
              "    .dataframe tbody tr th {\n",
              "        vertical-align: top;\n",
              "    }\n",
              "\n",
              "    .dataframe thead th {\n",
              "        text-align: right;\n",
              "    }\n",
              "</style>\n",
              "<table border=\"1\" class=\"dataframe\">\n",
              "  <thead>\n",
              "    <tr style=\"text-align: right;\">\n",
              "      <th></th>\n",
              "      <th>id</th>\n",
              "      <th>outwear</th>\n",
              "      <th>top</th>\n",
              "      <th>trousers</th>\n",
              "      <th>women dresses</th>\n",
              "      <th>women skirts</th>\n",
              "    </tr>\n",
              "  </thead>\n",
              "  <tbody>\n",
              "    <tr>\n",
              "      <th>0</th>\n",
              "      <td>0</td>\n",
              "      <td>0</td>\n",
              "      <td>1</td>\n",
              "      <td>1</td>\n",
              "      <td>0</td>\n",
              "      <td>0</td>\n",
              "    </tr>\n",
              "    <tr>\n",
              "      <th>1</th>\n",
              "      <td>1</td>\n",
              "      <td>1</td>\n",
              "      <td>1</td>\n",
              "      <td>0</td>\n",
              "      <td>0</td>\n",
              "      <td>0</td>\n",
              "    </tr>\n",
              "    <tr>\n",
              "      <th>2</th>\n",
              "      <td>2</td>\n",
              "      <td>1</td>\n",
              "      <td>0</td>\n",
              "      <td>1</td>\n",
              "      <td>0</td>\n",
              "      <td>0</td>\n",
              "    </tr>\n",
              "    <tr>\n",
              "      <th>3</th>\n",
              "      <td>3</td>\n",
              "      <td>0</td>\n",
              "      <td>1</td>\n",
              "      <td>1</td>\n",
              "      <td>0</td>\n",
              "      <td>0</td>\n",
              "    </tr>\n",
              "    <tr>\n",
              "      <th>4</th>\n",
              "      <td>4</td>\n",
              "      <td>0</td>\n",
              "      <td>1</td>\n",
              "      <td>1</td>\n",
              "      <td>0</td>\n",
              "      <td>0</td>\n",
              "    </tr>\n",
              "  </tbody>\n",
              "</table>\n",
              "</div>"
            ],
            "text/plain": [
              "   id  outwear  top  trousers  women dresses  women skirts\n",
              "0   0        0    1         1              0             0\n",
              "1   1        1    1         0              0             0\n",
              "2   2        1    0         1              0             0\n",
              "3   3        0    1         1              0             0\n",
              "4   4        0    1         1              0             0"
            ]
          },
          "metadata": {
            "tags": []
          },
          "execution_count": 97
        }
      ]
    },
    {
      "cell_type": "code",
      "metadata": {
        "id": "57AYeattJiVK",
        "colab_type": "code",
        "colab": {}
      },
      "source": [
        "'''\n",
        "NLP: acc: ~0.987, lm: 0.590402\n",
        "'''"
      ],
      "execution_count": null,
      "outputs": []
    }
  ]
}